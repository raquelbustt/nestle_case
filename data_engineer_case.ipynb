{
 "cells": [
  {
   "cell_type": "markdown",
   "metadata": {},
   "source": [
    "# Case Nestlé - Data Engineer"
   ]
  },
  {
   "cell_type": "code",
   "execution_count": 1,
   "metadata": {},
   "outputs": [],
   "source": [
    "# Caso não tenha o  pyspark instalado executar o seguinte comando:\n",
    "# pip install pyspark"
   ]
  },
  {
   "cell_type": "code",
   "execution_count": 2,
   "metadata": {},
   "outputs": [],
   "source": [
    "# Bibliotecas utilizadas\n",
    "from pyspark.sql import SparkSession\n",
    "from pyspark.sql.functions import count, when, col, sha2, udf, countDistinct, desc\n",
    "from pyspark.sql.types import StringType, FloatType"
   ]
  },
  {
   "cell_type": "code",
   "execution_count": 3,
   "metadata": {},
   "outputs": [
    {
     "name": "stdout",
     "output_type": "stream",
     "text": [
      "23/03/20 15:22:34 WARN Utils: Your hostname, AGM-593886.local resolves to a loopback address: 127.0.0.1; using 192.168.100.6 instead (on interface en0)\n",
      "23/03/20 15:22:34 WARN Utils: Set SPARK_LOCAL_IP if you need to bind to another address\n"
     ]
    },
    {
     "name": "stderr",
     "output_type": "stream",
     "text": [
      "Setting default log level to \"WARN\".\n",
      "To adjust logging level use sc.setLogLevel(newLevel). For SparkR, use setLogLevel(newLevel).\n"
     ]
    },
    {
     "name": "stdout",
     "output_type": "stream",
     "text": [
      "23/03/20 15:22:35 WARN NativeCodeLoader: Unable to load native-hadoop library for your platform... using builtin-java classes where applicable\n"
     ]
    }
   ],
   "source": [
    "# Criando uma nova sessão Spark\n",
    "spark = SparkSession.builder.appName(\"DE\").getOrCreate()"
   ]
  },
  {
   "cell_type": "markdown",
   "metadata": {},
   "source": [
    "## Análise exploratória das bases"
   ]
  },
  {
   "cell_type": "code",
   "execution_count": 4,
   "metadata": {},
   "outputs": [
    {
     "name": "stderr",
     "output_type": "stream",
     "text": []
    }
   ],
   "source": [
    "# Input DataFrames\n",
    "cargos_df = spark.read.format(\"csv\").option(\"header\", \"true\").option(\"delimiter\", \";\").load(\"./Base_case/BaseCargos.csv\")\n",
    "cep_df = spark.read.format(\"csv\").option(\"header\", \"true\").option(\"delimiter\", \"|\").load(\"./Base_case/BaseCEP.csv\")\n",
    "clientes_df = spark.read.format(\"csv\") \\\n",
    "                      .option(\"header\", \"true\") \\\n",
    "                      .option(\"delimiter\", \";\") \\\n",
    "                      .load(\"./Base_case/BaseClientes.csv\")\n",
    "funcionarios_df = spark.read.format(\"csv\").option(\"header\", \"true\").option(\"delimiter\", \"||\").load(\"./Base_case/BaseFuncionarios.csv\")\n",
    "nivel_df = spark.read.format(\"csv\").option(\"header\", \"true\").option(\"delimiter\", \"%\").load(\"./Base_case/BaseNivel.csv\")\n",
    "pq_df = spark.read.format(\"csv\").option(\"header\", \"true\").option(\"delimiter\", \",\").load(\"./Base_case/BasePQ.csv\")"
   ]
  },
  {
   "cell_type": "code",
   "execution_count": 5,
   "metadata": {},
   "outputs": [],
   "source": [
    "#Função para retornar os 5 primeiros valores de cada df\n",
    "def show_df(df):\n",
    "    return df.show(5)"
   ]
  },
  {
   "cell_type": "code",
   "execution_count": 6,
   "metadata": {},
   "outputs": [
    {
     "name": "stdout",
     "output_type": "stream",
     "text": [
      "+-----+----------+--------------+--------+---------+--------+-----+-----------+\n",
      "|Cargo|     Nível|          Área|COD Área|COD Nível|  Quadro|Bonus|Contratacao|\n",
      "+-----+----------+--------------+--------+---------+--------+-----+-----------+\n",
      "|  OPV|   Diretor|     Operações|     JAJ|       JE| Efetivo|    S|  Diretoria|\n",
      "|  LOI|Estagiário|     Logísitca|     EDE|       JA| Efetivo|    N|    Gerente|\n",
      "|  ADI|Estagiário|Administrativo|     BAC|       JA| Efetivo|    N|    Gerente|\n",
      "| ADII|  Analista|Administrativo|     BAC|       DB|Terceiro|    N|         RH|\n",
      "| OPII|  Analista|     Operações|     JAJ|       DB|Terceiro|    N|         RH|\n",
      "+-----+----------+--------------+--------+---------+--------+-----+-----------+\n",
      "only showing top 5 rows\n",
      "\n"
     ]
    }
   ],
   "source": [
    "show_df(cargos_df)"
   ]
  },
  {
   "cell_type": "code",
   "execution_count": 7,
   "metadata": {},
   "outputs": [],
   "source": [
    "# show_df(cep_df)"
   ]
  },
  {
   "cell_type": "code",
   "execution_count": 8,
   "metadata": {},
   "outputs": [
    {
     "name": "stdout",
     "output_type": "stream",
     "text": [
      "23/03/20 15:22:49 WARN CSVHeaderChecker: CSV header does not conform to the schema.\n",
      " Header: Cliente, Valor Contrato Anual, Quantidade de Serviços, Cargo Responsável, CEP, Data Início Contrato, Nivel de Importancia, \n",
      " Schema: Cliente, Valor Contrato Anual, Quantidade de Serviços, Cargo Responsável, CEP, Data Início Contrato, Nivel de Importancia, _c7\n",
      "Expected: _c7 but found: \n",
      "CSV file: file:///Users/raquel.bustamante/Documents/Nestlé/Base_case/BaseClientes.csv\n",
      "+------------------+--------------------+----------------------+-----------------+---------+--------------------+--------------------+----+\n",
      "|           Cliente|Valor Contrato Anual|Quantidade de Serviços|Cargo Responsável|      CEP|Data Início Contrato|Nivel de Importancia| _c7|\n",
      "+------------------+--------------------+----------------------+-----------------+---------+--------------------+--------------------+----+\n",
      "|Teixeira Gonçalves|               54000|                    37|            ADIII|743419711|          15/03/2019|                   3|null|\n",
      "|      Souza Santos|              126000|                    12|             FIIV|882467283|          08/04/2019|                   1|null|\n",
      "|      Emídio Alves|              319500|                    23|             ADII|295150983|          09/02/2019|                   3|null|\n",
      "|      Santos Costa|              252000|                    64|             FIIV|430169311|          10/03/2019|                   2|null|\n",
      "|       Do Monteiro|              351000|                    19|              OPV|839424894|          31/01/2019|                   3|null|\n",
      "+------------------+--------------------+----------------------+-----------------+---------+--------------------+--------------------+----+\n",
      "only showing top 5 rows\n",
      "\n"
     ]
    }
   ],
   "source": [
    "show_df(clientes_df)"
   ]
  },
  {
   "cell_type": "code",
   "execution_count": 9,
   "metadata": {},
   "outputs": [],
   "source": [
    "# show_df(funcionarios_df)"
   ]
  },
  {
   "cell_type": "code",
   "execution_count": 10,
   "metadata": {},
   "outputs": [
    {
     "name": "stdout",
     "output_type": "stream",
     "text": [
      "+-----+---------------+--------------+---------------+------------------+-----------------+-----------------+\n",
      "|Nível|Descrição Nível|Tempo no Nível| Plano de Saúde|Plano Odontológico|Setor Responsável|Plano de Carreira|\n",
      "+-----+---------------+--------------+---------------+------------------+-----------------+-----------------+\n",
      "|   JA|     Estagiário|             1|           null|              null|             null|             null|\n",
      "| null|            Sim|           Não|RH Universidade|               Sim|             null|             null|\n",
      "|   DB|       Analista|             4|           null|              null|             null|             null|\n",
      "|  Sim|            Não|   RH Empresas|            Sim|              null|             null|             null|\n",
      "|   GC|    Coordenador|             5|           null|              null|             null|             null|\n",
      "+-----+---------------+--------------+---------------+------------------+-----------------+-----------------+\n",
      "only showing top 5 rows\n",
      "\n"
     ]
    }
   ],
   "source": [
    "show_df(nivel_df)"
   ]
  },
  {
   "cell_type": "code",
   "execution_count": 11,
   "metadata": {},
   "outputs": [],
   "source": [
    "# show_df(pq_df)"
   ]
  },
  {
   "cell_type": "code",
   "execution_count": 12,
   "metadata": {},
   "outputs": [
    {
     "name": "stdout",
     "output_type": "stream",
     "text": [
      "Cargos tem 25 registros e 8 colunas\n",
      "Valores nulos em Cargos:\n",
      "+-----+-----+----+--------+---------+------+-----+-----------+\n",
      "|Cargo|Nível|Área|COD Área|COD Nível|Quadro|Bonus|Contratacao|\n",
      "+-----+-----+----+--------+---------+------+-----+-----------+\n",
      "|    0|    0|   0|       0|        0|     0|    0|          0|\n",
      "+-----+-----+----+--------+---------+------+-----+-----------+\n",
      "\n",
      "Base CEP tem 860 registros e 3 colunas\n",
      "Valores nulos em Base CEP:\n",
      "+---+------+------+\n",
      "|CEP|Estado|Região|\n",
      "+---+------+------+\n",
      "|  0|    25|     0|\n",
      "+---+------+------+\n",
      "\n",
      "Base Clientes tem 321 registros e 8 colunas\n",
      "Valores nulos em Base Clientes:\n",
      "23/03/20 15:22:53 WARN CSVHeaderChecker: CSV header does not conform to the schema.\n",
      " Header: Cliente, Valor Contrato Anual, Quantidade de Serviços, Cargo Responsável, CEP, Data Início Contrato, Nivel de Importancia, \n",
      " Schema: Cliente, Valor Contrato Anual, Quantidade de Serviços, Cargo Responsável, CEP, Data Início Contrato, Nivel de Importancia, _c7\n",
      "Expected: _c7 but found: \n",
      "CSV file: file:///Users/raquel.bustamante/Documents/Nestlé/Base_case/BaseClientes.csv\n",
      "+-------+--------------------+----------------------+-----------------+---+--------------------+--------------------+---+\n",
      "|Cliente|Valor Contrato Anual|Quantidade de Serviços|Cargo Responsável|CEP|Data Início Contrato|Nivel de Importancia|_c7|\n",
      "+-------+--------------------+----------------------+-----------------+---+--------------------+--------------------+---+\n",
      "|      0|                   0|                     0|                0|  0|                   0|                   0|321|\n",
      "+-------+--------------------+----------------------+-----------------+---+--------------------+--------------------+---+\n",
      "\n",
      "Base Funcionarios tem 539 registros e 27 colunas\n",
      "Valores nulos em Base Funcionarios:\n",
      "23/03/20 15:22:54 WARN package: Truncated the string representation of a plan since it was too large. This behavior can be adjusted by setting 'spark.sql.debug.maxToStringFields'.\n",
      "+-----+---+---+-----+------------+-------------+-----+------------------+---+-------------------+----------------+---------------------------------------+------------+--------+----------+---+---+-----+--------+-------+---------------------+-----------------+------------------+------------+------------------+-------------+----------+\n",
      "|ID RH| RG|CPF|Ramal|Estado Civil|Nome Completo|Login|Data de Nascimento|CEP|Data de Contratacao|Data de Demissao|Dias Uteis Trabalhados Ano Orcamentario|Salario Base|Impostos|Beneficios| VT| VR|Cargo|Bandeira|Codigos|Quantidade de Acessos|Ferias Acumuladas|Ferias Remuneradas|Horas Extras|Valores Adicionais|ID de Pessoal|ID da area|\n",
      "+-----+---+---+-----+------------+-------------+-----+------------------+---+-------------------+----------------+---------------------------------------+------------+--------+----------+---+---+-----+--------+-------+---------------------+-----------------+------------------+------------+------------------+-------------+----------+\n",
      "|    0|  0|  0|    0|           0|            0|    0|                 0|  0|                  0|             436|                                      0|           0|       0|         0|  0|  0|    0|     539|      0|                    0|                0|               539|           0|               532|          539|         0|\n",
      "+-----+---+---+-----+------------+-------------+-----+------------------+---+-------------------+----------------+---------------------------------------+------------+--------+----------+---+---+-----+--------+-------+---------------------+-----------------+------------------+------------+------------------+-------------+----------+\n",
      "\n",
      "Base Nivel tem 10 registros e 7 colunas\n",
      "Valores nulos em Base Nivel:\n",
      "+-----+---------------+--------------+--------------+------------------+-----------------+-----------------+\n",
      "|Nível|Descrição Nível|Tempo no Nível|Plano de Saúde|Plano Odontológico|Setor Responsável|Plano de Carreira|\n",
      "+-----+---------------+--------------+--------------+------------------+-----------------+-----------------+\n",
      "|    1|              0|             0|             5|                 9|               10|               10|\n",
      "+-----+---------------+--------------+--------------+------------------+-----------------+-----------------+\n",
      "\n",
      "Base PQ tem 539 registros e 58 colunas\n",
      "Valores nulos em Base PQ:\n",
      "23/03/20 15:22:59 WARN CSVHeaderChecker: CSV header does not conform to the schema.\n",
      " Header: ID RH, RG, CPF, Ramal, Estado Civil, Nome Completo, Login, Data de Nascimento, CEP, Data de Contratacao, Data de Demissao, Dias Uteis Trabalhados Ano Orcamentario, Salario Base, Impostos, Beneficios, VT, VR, Cargo, Bandeira, Codigos, Quantidade de Acessos, Ferias Acumuladas, Ferias Remuneradas, Horas Extras, Valores Adicionais, ID de Pessoal, ID da area, , OP, 010, Operações, JAJ, 0, J, , 1, 0, I, Estagiário, JA, , , Cargo, Nível, Área, COD Área, COD Nível, Quadro, Bonus, Contratacao, , Nível, Descrição Nível, Tempo no Nível, Plano de Saúde, Plano Odontológico, Setor Responsável, Plano de Carreira\n",
      " Schema: ID RH, RG, CPF, Ramal, Estado Civil, Nome Completo, Login, Data de Nascimento, CEP, Data de Contratacao, Data de Demissao, Dias Uteis Trabalhados Ano Orcamentario, Salario Base, Impostos, Beneficios, VT, VR, Cargo17, Bandeira, Codigos, Quantidade de Acessos, Ferias Acumuladas, Ferias Remuneradas, Horas Extras, Valores Adicionais, ID de Pessoal, ID da area, _c27, OP, 010, Operações, JAJ, 032, J, _c34, 1, 036, I, Estagiário, JA, _c40, _c41, Cargo42, Nível43, Área, COD Área, COD Nível, Quadro, Bonus, Contratacao, _c50, Nível51, Descrição Nível, Tempo no Nível, Plano de Saúde, Plano Odontológico, Setor Responsável, Plano de Carreira\n",
      "Expected: Cargo17 but found: Cargo\n",
      "CSV file: file:///Users/raquel.bustamante/Documents/Nestlé/Base_case/BasePQ.csv\n",
      "+-----+---+---+-----+------------+-------------+-----+------------------+---+-------------------+----------------+---------------------------------------+------------+--------+----------+---+---+-------+--------+-------+---------------------+-----------------+------------------+------------+------------------+-------------+----------+----+---+---+---------+---+---+---+----+---+---+---+----------+---+----+----+-------+-------+----+--------+---------+------+-----+-----------+----+-------+---------------+--------------+--------------+------------------+-----------------+-----------------+\n",
      "|ID RH| RG|CPF|Ramal|Estado Civil|Nome Completo|Login|Data de Nascimento|CEP|Data de Contratacao|Data de Demissao|Dias Uteis Trabalhados Ano Orcamentario|Salario Base|Impostos|Beneficios| VT| VR|Cargo17|Bandeira|Codigos|Quantidade de Acessos|Ferias Acumuladas|Ferias Remuneradas|Horas Extras|Valores Adicionais|ID de Pessoal|ID da area|_c27| OP|010|Operações|JAJ|032|  J|_c34|  1|036|  I|Estagiário| JA|_c40|_c41|Cargo42|Nível43|Área|COD Área|COD Nível|Quadro|Bonus|Contratacao|_c50|Nível51|Descrição Nível|Tempo no Nível|Plano de Saúde|Plano Odontológico|Setor Responsável|Plano de Carreira|\n",
      "+-----+---+---+-----+------------+-------------+-----+------------------+---+-------------------+----------------+---------------------------------------+------------+--------+----------+---+---+-------+--------+-------+---------------------+-----------------+------------------+------------+------------------+-------------+----------+----+---+---+---------+---+---+---+----+---+---+---+----------+---+----+----+-------+-------+----+--------+---------+------+-----+-----------+----+-------+---------------+--------------+--------------+------------------+-----------------+-----------------+\n",
      "|    0|  0|  0|    0|           0|            0|    0|                 0|  0|                  0|             436|                                      0|           0|       0|         0|  0|  0|      0|     539|      0|                    0|                0|               539|           0|               532|          539|         0| 539|535|535|      535|535|513|513| 539|535|535|535|       535|535| 539| 539|    514|    514| 514|     514|      514|   514|  514|        514| 539|    534|            534|           534|           534|               534|              534|              534|\n",
      "+-----+---+---+-----+------------+-------------+-----+------------------+---+-------------------+----------------+---------------------------------------+------------+--------+----------+---+---+-------+--------+-------+---------------------+-----------------+------------------+------------+------------------+-------------+----------+----+---+---+---------+---+---+---+----+---+---+---+----------+---+----+----+-------+-------+----+--------+---------+------+-----+-----------+----+-------+---------------+--------------+--------------+------------------+-----------------+-----------------+\n",
      "\n"
     ]
    }
   ],
   "source": [
    "# Função para análise de quantidade de registros e colunas em cada base\n",
    "dfs = [\n",
    "    (\"Cargos\", cargos_df), \n",
    "    (\"Base CEP\", cep_df), \n",
    "    (\"Base Clientes\", clientes_df,),\n",
    "    (\"Base Funcionarios\", funcionarios_df), \n",
    "    (\"Base Nivel\", nivel_df), \n",
    "    (\"Base PQ\", pq_df)\n",
    "]\n",
    "\n",
    "for base, df in dfs:\n",
    "    print(f'{base} tem {df.count()} registros e {len(df.columns)} colunas')\n",
    "\n",
    "    print(f\"Valores nulos em {base}:\")\n",
    "    df.select([count(when(col(c).isNull(), c)).alias(c) for c in df.columns]).show()"
   ]
  },
  {
   "cell_type": "markdown",
   "metadata": {},
   "source": [
    "## Tratativa dados sensíveis"
   ]
  },
  {
   "cell_type": "markdown",
   "metadata": {},
   "source": [
    "Foi escolhida a coluna CPF das bases funcionários e PQ para serem tratadas como dados sensíveis. Para isso, é possível utilizar a função sha2 para substituir os valores por hash."
   ]
  },
  {
   "cell_type": "code",
   "execution_count": 13,
   "metadata": {},
   "outputs": [],
   "source": [
    "funcionarios_df_hash = funcionarios_df.withColumn(\"CPF\", sha2(col('CPF'), 256))"
   ]
  },
  {
   "cell_type": "code",
   "execution_count": 14,
   "metadata": {},
   "outputs": [],
   "source": [
    "pq_df_hash = pq_df.withColumn(\"CPF\", sha2(col('CPF'), 256))"
   ]
  },
  {
   "cell_type": "markdown",
   "metadata": {},
   "source": [
    "## Insights"
   ]
  },
  {
   "cell_type": "markdown",
   "metadata": {},
   "source": [
    "Baseado na análise exploratória feita sobre as tabelas quanto ao seus devidos conteúdos, foi escolhido gerar 5 insights sobre os dados\n",
    "1. Quantidade de clientes e funcionários por estado\n",
    "2. Distribuição de cargos por nível\n",
    "3. Funcionários com maiores horas extras da base PQ\n",
    "4. Quantidade de Clientes e de Valor Contrato Anual por Nível (Dado o cargo responsável)\n",
    "5. Clientes com maior Valor Contrato Anual"
   ]
  },
  {
   "cell_type": "markdown",
   "metadata": {},
   "source": [
    "#### Quantidade de clientes e funcionários por estado"
   ]
  },
  {
   "cell_type": "code",
   "execution_count": 15,
   "metadata": {},
   "outputs": [],
   "source": [
    "# Criando os dfs\n",
    "clientes_estado_df = clientes_df.join(cep_df, \"CEP\").groupBy(\"Estado\").count().withColumnRenamed(\"count\", \"total_clientes\").orderBy(\"total_clientes\", ascending=False)\n",
    "funcionarios_estado_df = funcionarios_df.join(cep_df, \"CEP\").groupBy(\"Estado\").count().withColumnRenamed(\"count\", \"total_funcionarios\").orderBy(\"total_funcionarios\", ascending=False)"
   ]
  },
  {
   "cell_type": "code",
   "execution_count": 16,
   "metadata": {},
   "outputs": [],
   "source": [
    "# Unindo os dfs e ordenando por estados com mais clientes e funcionários\n",
    "clientes_funcionarios_estado = clientes_estado_df.join(funcionarios_estado_df, \"Estado\", \"outer\")\\\n",
    "    .orderBy([\"total_funcionarios\",\"total_clientes\"], ascending=False)"
   ]
  },
  {
   "cell_type": "code",
   "execution_count": 17,
   "metadata": {},
   "outputs": [
    {
     "name": "stdout",
     "output_type": "stream",
     "text": [
      "+-------------------+--------------+------------------+\n",
      "|             Estado|total_clientes|total_funcionarios|\n",
      "+-------------------+--------------+------------------+\n",
      "|            Alagoas|            22|                41|\n",
      "|           Amazonas|            24|                37|\n",
      "|               Pará|            17|                35|\n",
      "|        Mato Grosso|            15|                35|\n",
      "|            Sergipe|            20|                34|\n",
      "|              Bahia|            22|                33|\n",
      "|     Santa Catarina|            20|                33|\n",
      "|     Rio de Janeiro|            15|                33|\n",
      "|              Goiás|            18|                32|\n",
      "|          São Paulo|            25|                29|\n",
      "|            Roraima|            23|                28|\n",
      "|              Amapá|            17|                27|\n",
      "|               Acre|            22|                25|\n",
      "|Rio Grande do Norte|            21|                25|\n",
      "|               null|          null|                25|\n",
      "|         Pernambuco|            18|                23|\n",
      "|       Minas Gerais|            11|                23|\n",
      "|  Rio Grande do Sul|            11|                21|\n",
      "+-------------------+--------------+------------------+\n",
      "\n"
     ]
    }
   ],
   "source": [
    "clientes_funcionarios_estado.show()"
   ]
  },
  {
   "cell_type": "markdown",
   "metadata": {},
   "source": [
    "#### Distribuição de cargos por nível"
   ]
  },
  {
   "cell_type": "code",
   "execution_count": 18,
   "metadata": {},
   "outputs": [
    {
     "name": "stdout",
     "output_type": "stream",
     "text": [
      "+-----------+-----+\n",
      "|      Nível|Total|\n",
      "+-----------+-----+\n",
      "|   Analista|    4|\n",
      "|Coordenador|    4|\n",
      "|    Diretor|    5|\n",
      "|  Diretoria|    2|\n",
      "| Estagiário|    5|\n",
      "|    Gerente|    2|\n",
      "|         RH|    3|\n",
      "+-----------+-----+\n",
      "\n"
     ]
    }
   ],
   "source": [
    "cargos_por_nivel = cargos_df.groupBy(\"Nível\").count().withColumnRenamed(\"count\", \"Total\").orderBy(\"Nível\")\n",
    "cargos_por_nivel.show()"
   ]
  },
  {
   "cell_type": "markdown",
   "metadata": {},
   "source": [
    "#### Funcionários com maiores horas extras"
   ]
  },
  {
   "cell_type": "code",
   "execution_count": 19,
   "metadata": {},
   "outputs": [],
   "source": [
    "funcionarios_hora_extra = pq_df.select(\"RG\", \"Nome completo\", col(\"Horas extras\").cast(\"int\").alias(\"Horas extras\")) \\\n",
    "                               .orderBy(desc(\"Horas extras\"))"
   ]
  },
  {
   "cell_type": "code",
   "execution_count": 20,
   "metadata": {},
   "outputs": [
    {
     "name": "stdout",
     "output_type": "stream",
     "text": [
      "+---------+--------------------+------------+\n",
      "|       RG|       Nome completo|Horas extras|\n",
      "+---------+--------------------+------------+\n",
      "|369626839|Alfredo Machado A...|         200|\n",
      "|307135080|Helena Carramanho...|         200|\n",
      "|394177057|        Caio Stellet|         199|\n",
      "|266341456| Brenno Ayello Leite|         199|\n",
      "|395791459|        Izabel Costa|         198|\n",
      "|684337006|Priscila de Oliveira|         198|\n",
      "|311722917|    Wendela da Cunha|         198|\n",
      "|909194922|       Leonardo Dias|         198|\n",
      "|575413219| Mateus Novaes Silva|         197|\n",
      "|698776875|Bárbara Spenchutt...|         196|\n",
      "|762627169|André dos Santos ...|         196|\n",
      "|952596883|Matheus Rodrigues...|         196|\n",
      "|994059962| Renan Steiner Costa|         196|\n",
      "|747804546|Daniel Pinto Anas...|         196|\n",
      "|117694466|        Brenda Lopes|         195|\n",
      "|762646893|    Rodrigo da Silva|         195|\n",
      "|639216635|Thayná Freitas Me...|         195|\n",
      "|396843893| Ana Lassaval Farias|         195|\n",
      "|997859911|     Mauricio Jardim|         195|\n",
      "|904085550|         Rafael Lobo|         195|\n",
      "+---------+--------------------+------------+\n",
      "only showing top 20 rows\n",
      "\n"
     ]
    }
   ],
   "source": [
    "funcionarios_hora_extra.show()"
   ]
  },
  {
   "cell_type": "markdown",
   "metadata": {},
   "source": [
    "#### Quantidade de Clientes e de Valor Contrato Anual por Nível (Dado o cargo responsável)"
   ]
  },
  {
   "cell_type": "code",
   "execution_count": 21,
   "metadata": {},
   "outputs": [],
   "source": [
    "join_df = clientes_df.join(cargos_df, (clientes_df[\"Cargo Responsável\"] == cargos_df[\"Cargo\"]) & (clientes_df[\"Cargo Responsável\"] == cargos_df[\"Cargo\"]))"
   ]
  },
  {
   "cell_type": "code",
   "execution_count": 22,
   "metadata": {},
   "outputs": [],
   "source": [
    "contrato_por_cargo = join_df.groupBy(\"Cargo\", \"Nível\").agg({'Valor Contrato Anual': 'sum'})\\\n",
    "                            .withColumnRenamed(\"sum(Valor Contrato Anual)\", \"Valor Contrato Anual\") \\\n",
    "                            .orderBy(\"Valor Contrato Anual\", ascending=False)"
   ]
  },
  {
   "cell_type": "code",
   "execution_count": 23,
   "metadata": {},
   "outputs": [
    {
     "name": "stdout",
     "output_type": "stream",
     "text": [
      "+-----+-----------+--------------------+\n",
      "|Cargo|      Nível|Valor Contrato Anual|\n",
      "+-----+-----------+--------------------+\n",
      "|  OPV|    Diretor|           7479000.0|\n",
      "| FIIV|  Diretoria|           5638500.0|\n",
      "|FIIII|Coordenador|           5607000.0|\n",
      "| COII|         RH|           5062500.0|\n",
      "| FIII|   Analista|           4612500.0|\n",
      "|COIII|         RH|           4504500.0|\n",
      "| ADIV|         RH|           4428000.0|\n",
      "|OPIII|Coordenador|           4428000.0|\n",
      "|  ADV|    Diretor|           4414500.0|\n",
      "| COIV|    Gerente|           3915000.0|\n",
      "|  LOV|    Diretor|           3802500.0|\n",
      "|LOIII|Coordenador|           3712500.0|\n",
      "|ADIII|Coordenador|           3595500.0|\n",
      "| OPII|   Analista|           3492000.0|\n",
      "| LOII|   Analista|           3109500.0|\n",
      "|  COV|    Diretor|           2880000.0|\n",
      "| OPIV|    Gerente|           2763000.0|\n",
      "| LOIV|  Diretoria|           2565000.0|\n",
      "|  FIV|    Diretor|           2461500.0|\n",
      "| ADII|   Analista|           1953000.0|\n",
      "+-----+-----------+--------------------+\n",
      "\n"
     ]
    }
   ],
   "source": [
    "contrato_por_cargo.show()"
   ]
  },
  {
   "cell_type": "markdown",
   "metadata": {},
   "source": [
    "#### Clientes com maior Valor Contrato Anual"
   ]
  },
  {
   "cell_type": "code",
   "execution_count": 24,
   "metadata": {},
   "outputs": [],
   "source": [
    "clientes_maior_contrato = clientes_df.withColumn(\"Valor Contrato Anual\", col(\"Valor Contrato Anual\").cast(FloatType()))\\\n",
    "                                        .orderBy(\"Valor Contrato Anual\", ascending=False)"
   ]
  },
  {
   "cell_type": "code",
   "execution_count": 25,
   "metadata": {},
   "outputs": [
    {
     "name": "stdout",
     "output_type": "stream",
     "text": [
      "23/03/20 15:23:05 WARN CSVHeaderChecker: CSV header does not conform to the schema.\n",
      " Header: Cliente, Valor Contrato Anual, Quantidade de Serviços, Cargo Responsável, CEP, Data Início Contrato, Nivel de Importancia, \n",
      " Schema: Cliente, Valor Contrato Anual, Quantidade de Serviços, Cargo Responsável, CEP, Data Início Contrato, Nivel de Importancia, _c7\n",
      "Expected: _c7 but found: \n",
      "CSV file: file:///Users/raquel.bustamante/Documents/Nestlé/Base_case/BaseClientes.csv\n",
      "+----------------+--------------------+----------------------+-----------------+---------+--------------------+--------------------+----+\n",
      "|         Cliente|Valor Contrato Anual|Quantidade de Serviços|Cargo Responsável|      CEP|Data Início Contrato|Nivel de Importancia| _c7|\n",
      "+----------------+--------------------+----------------------+-----------------+---------+--------------------+--------------------+----+\n",
      "|  Silva Quintana|            450000.0|                    33|              LOV|736840846|          24/03/2019|                   4|null|\n",
      "|Lobato Celestino|            450000.0|                    35|            FIIII|250413034|          25/11/2018|                   1|null|\n",
      "|   Alves Cardozo|            445500.0|                    83|             FIIV|266855819|          30/01/2019|                   3|null|\n",
      "|   Terra Aurélio|            445500.0|                    78|            LOIII|359479432|          27/01/2019|                   3|null|\n",
      "|  Vitorino Turri|            445500.0|                    24|              ADV|613466446|          23/02/2019|                   1|null|\n",
      "|  Comparato Lima|            445500.0|                    35|             ADIV|204767661|          03/03/2019|                   1|null|\n",
      "|    Nunes Wiener|            441000.0|                    91|             ADIV|977370859|          06/12/2018|                   3|null|\n",
      "|  Gomes Oliveira|            441000.0|                    19|             COII|972182752|          21/11/2018|                   2|null|\n",
      "|        De Mayer|            441000.0|                    43|            OPIII|350193632|          27/02/2019|                   4|null|\n",
      "| Antunes Moreira|            441000.0|                    46|             COIV| 89488477|          18/10/2018|                   1|null|\n",
      "+----------------+--------------------+----------------------+-----------------+---------+--------------------+--------------------+----+\n",
      "only showing top 10 rows\n",
      "\n"
     ]
    }
   ],
   "source": [
    "clientes_maior_contrato.show(10)"
   ]
  }
 ],
 "metadata": {
  "interpreter": {
   "hash": "b0fa6594d8f4cbf19f97940f81e996739fb7646882a419484c72d19e05852a7e"
  },
  "kernelspec": {
   "display_name": "Python 3.9.10 64-bit",
   "name": "python3"
  },
  "language_info": {
   "codemirror_mode": {
    "name": "ipython",
    "version": 3
   },
   "file_extension": ".py",
   "mimetype": "text/x-python",
   "name": "python",
   "nbconvert_exporter": "python",
   "pygments_lexer": "ipython3",
   "version": "3.9.10"
  },
  "orig_nbformat": 4
 },
 "nbformat": 4,
 "nbformat_minor": 2
}
