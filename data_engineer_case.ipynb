{
 "cells": [
  {
   "cell_type": "markdown",
   "metadata": {},
   "source": [
    "# Case Nestlé - Data Engineer"
   ]
  },
  {
   "cell_type": "code",
   "execution_count": null,
   "metadata": {},
   "outputs": [],
   "source": [
    "# Caso não tenha o  pyspark instalado executar o seguinte comando:\n",
    "# pip install pyspark"
   ]
  },
  {
   "cell_type": "code",
   "execution_count": 92,
   "metadata": {},
   "outputs": [],
   "source": [
    "# Bibliotecas utilizadas\n",
    "from pyspark.sql import SparkSession\n",
    "from pyspark.sql.functions import count, when, col, sha2, udf, StringType"
   ]
  },
  {
   "cell_type": "code",
   "execution_count": 8,
   "metadata": {},
   "outputs": [],
   "source": [
    "# Criando uma nova sessão Spark\n",
    "spark = SparkSession.builder.appName(\"DE\").getOrCreate()"
   ]
  },
  {
   "cell_type": "markdown",
   "metadata": {},
   "source": [
    "## Análise exploratória das bases"
   ]
  },
  {
   "cell_type": "code",
   "execution_count": 71,
   "metadata": {},
   "outputs": [],
   "source": [
    "# Input DataFrames\n",
    "cargos_df = spark.read.format(\"csv\").option(\"header\", \"true\").option(\"delimiter\", \";\").load(\"./Base_case/BaseCargos.csv\")\n",
    "cep_df = spark.read.format(\"csv\").option(\"header\", \"true\").option(\"delimiter\", \"|\").load(\"./Base_case/BaseCEP.csv\")\n",
    "clientes_df = spark.read.format(\"csv\").option(\"header\", \"true\").option(\"delimiter\", \";\").load(\"./Base_case/BaseClientes.csv\")\n",
    "funcionarios_df = spark.read.format(\"csv\").option(\"header\", \"true\").option(\"delimiter\", \"||\").load(\"./Base_case/BaseFuncionarios.csv\")\n",
    "nivel_df = spark.read.format(\"csv\").option(\"header\", \"true\").option(\"delimiter\", \"%\").load(\"./Base_case/BaseNivel.csv\")\n",
    "pq_df = spark.read.format(\"csv\").option(\"header\", \"true\").option(\"delimiter\", \";\").load(\"./Base_case/BasePQ.csv\")"
   ]
  },
  {
   "cell_type": "code",
   "execution_count": 73,
   "metadata": {},
   "outputs": [],
   "source": [
    "#Função para retornar os 5 primeiros valores de cada df\n",
    "def show_df(df):\n",
    "    return df.show(5)"
   ]
  },
  {
   "cell_type": "code",
   "execution_count": 74,
   "metadata": {},
   "outputs": [
    {
     "name": "stdout",
     "output_type": "stream",
     "text": [
      "+-----+----------+--------------+--------+---------+--------+-----+-----------+\n",
      "|Cargo|     Nível|          Área|COD Área|COD Nível|  Quadro|Bonus|Contratacao|\n",
      "+-----+----------+--------------+--------+---------+--------+-----+-----------+\n",
      "|  OPV|   Diretor|     Operações|     JAJ|       JE| Efetivo|    S|  Diretoria|\n",
      "|  LOI|Estagiário|     Logísitca|     EDE|       JA| Efetivo|    N|    Gerente|\n",
      "|  ADI|Estagiário|Administrativo|     BAC|       JA| Efetivo|    N|    Gerente|\n",
      "| ADII|  Analista|Administrativo|     BAC|       DB|Terceiro|    N|         RH|\n",
      "| OPII|  Analista|     Operações|     JAJ|       DB|Terceiro|    N|         RH|\n",
      "+-----+----------+--------------+--------+---------+--------+-----+-----------+\n",
      "only showing top 5 rows\n",
      "\n"
     ]
    }
   ],
   "source": [
    "show_df(cargos_df)"
   ]
  },
  {
   "cell_type": "code",
   "execution_count": 75,
   "metadata": {},
   "outputs": [
    {
     "name": "stdout",
     "output_type": "stream",
     "text": [
      "+--------+-------------------+--------------+\n",
      "|     CEP|             Estado|        Região|\n",
      "+--------+-------------------+--------------+\n",
      "|20125535|        Mato Grosso|Centro - Oeste|\n",
      "|25995770|Rio Grande do Norte|      Nordeste|\n",
      "|37278465|            Sergipe|      Nordeste|\n",
      "|49897703|        Mato Grosso|Centro - Oeste|\n",
      "|30149335|        Mato Grosso|Centro - Oeste|\n",
      "+--------+-------------------+--------------+\n",
      "only showing top 5 rows\n",
      "\n"
     ]
    }
   ],
   "source": [
    "show_df(cep_df)"
   ]
  },
  {
   "cell_type": "code",
   "execution_count": 76,
   "metadata": {},
   "outputs": [
    {
     "name": "stdout",
     "output_type": "stream",
     "text": [
      "23/03/20 11:00:15 WARN CSVHeaderChecker: CSV header does not conform to the schema.\n",
      " Header: Cliente, Valor Contrato Anual, Quantidade de Serviços, Cargo Responsável, CEP, Data Início Contrato, Nivel de Importancia, , , , , \n",
      " Schema: Cliente, Valor Contrato Anual, Quantidade de Serviços, Cargo Responsável, CEP, Data Início Contrato, Nivel de Importancia, _c7, _c8, _c9, _c10, _c11\n",
      "Expected: _c7 but found: \n",
      "CSV file: file:///Users/raquel.bustamante/Documents/Nestlé/Base_case/BaseClientes.csv\n",
      "+------------------+--------------------+----------------------+-----------------+---------+--------------------+--------------------+----+----+----+----+----+\n",
      "|           Cliente|Valor Contrato Anual|Quantidade de Serviços|Cargo Responsável|      CEP|Data Início Contrato|Nivel de Importancia| _c7| _c8| _c9|_c10|_c11|\n",
      "+------------------+--------------------+----------------------+-----------------+---------+--------------------+--------------------+----+----+----+----+----+\n",
      "|Teixeira Gonçalves|               54000|                    37|            ADIII|743419711|          15/03/2019|                   3|null|null|null|null|null|\n",
      "|      Souza Santos|              126000|                    12|             FIIV|882467283|          08/04/2019|                   1|null|null|null|null|null|\n",
      "|      Emídio Alves|              319500|                    23|             ADII|295150983|          09/02/2019|                   3|null|null|null|null|null|\n",
      "|      Santos Costa|              252000|                  null|               64|     FIIV|           430169311|          10/03/2019|   2|null|null|null|null|\n",
      "|       Do Monteiro|              351000|                  null|               19|      OPV|           839424894|          31/01/2019|   3|null|null|null|null|\n",
      "+------------------+--------------------+----------------------+-----------------+---------+--------------------+--------------------+----+----+----+----+----+\n",
      "only showing top 5 rows\n",
      "\n"
     ]
    }
   ],
   "source": [
    "show_df(clientes_df)"
   ]
  },
  {
   "cell_type": "code",
   "execution_count": 80,
   "metadata": {},
   "outputs": [],
   "source": [
    "# show_df(funcionarios_df)"
   ]
  },
  {
   "cell_type": "code",
   "execution_count": 81,
   "metadata": {},
   "outputs": [],
   "source": [
    "# show_df(nivel_df)"
   ]
  },
  {
   "cell_type": "code",
   "execution_count": 82,
   "metadata": {},
   "outputs": [],
   "source": [
    "# show_df(pq_df)"
   ]
  },
  {
   "cell_type": "code",
   "execution_count": 86,
   "metadata": {},
   "outputs": [
    {
     "name": "stdout",
     "output_type": "stream",
     "text": [
      "Cargos tem 25 registros e 8 colunas\n",
      "Valores nulos em Cargos:\n",
      "+-----+-----+----+--------+---------+------+-----+-----------+\n",
      "|Cargo|Nível|Área|COD Área|COD Nível|Quadro|Bonus|Contratacao|\n",
      "+-----+-----+----+--------+---------+------+-----+-----------+\n",
      "|    0|    5|   0|       0|        0|     0|    0|          0|\n",
      "+-----+-----+----+--------+---------+------+-----+-----------+\n",
      "\n",
      "Base CEP tem 860 registros e 3 colunas\n",
      "Valores nulos em Base CEP:\n",
      "+---+------+------+\n",
      "|CEP|Estado|Região|\n",
      "+---+------+------+\n",
      "|  0|    25|     0|\n",
      "+---+------+------+\n",
      "\n",
      "Base Clientes tem 325 registros e 12 colunas\n",
      "Valores nulos em Base Clientes:\n",
      "23/03/20 11:14:49 WARN CSVHeaderChecker: CSV header does not conform to the schema.\n",
      " Header: Cliente, Valor Contrato Anual, Quantidade de Serviços, Cargo Responsável, CEP, Data Início Contrato, Nivel de Importancia, , , , , \n",
      " Schema: Cliente, Valor Contrato Anual, Quantidade de Serviços, Cargo Responsável, CEP, Data Início Contrato, Nivel de Importancia, _c7, _c8, _c9, _c10, _c11\n",
      "Expected: _c7 but found: \n",
      "CSV file: file:///Users/raquel.bustamante/Documents/Nestlé/Base_case/BaseClientes.csv\n",
      "+-------+--------------------+----------------------+-----------------+---+--------------------+--------------------+---+---+---+----+----+\n",
      "|Cliente|Valor Contrato Anual|Quantidade de Serviços|Cargo Responsável|CEP|Data Início Contrato|Nivel de Importancia|_c7|_c8|_c9|_c10|_c11|\n",
      "+-------+--------------------+----------------------+-----------------+---+--------------------+--------------------+---+---+---+----+----+\n",
      "|      0|                   1|                     3|                5|  8|                   8|                   8|320|325|325| 325| 325|\n",
      "+-------+--------------------+----------------------+-----------------+---+--------------------+--------------------+---+---+---+----+----+\n",
      "\n",
      "Base Funcionarios tem 539 registros e 27 colunas\n",
      "Valores nulos em Base Funcionarios:\n",
      "+-----+---+---+-----+------------+-------------+-----+------------------+---+-------------------+----------------+---------------------------------------+------------+--------+----------+---+---+-----+--------+-------+---------------------+-----------------+------------------+------------+------------------+-------------+----------+\n",
      "|ID RH| RG|CPF|Ramal|Estado Civil|Nome Completo|Login|Data de Nascimento|CEP|Data de Contratacao|Data de Demissao|Dias Uteis Trabalhados Ano Orcamentario|Salario Base|Impostos|Beneficios| VT| VR|Cargo|Bandeira|Codigos|Quantidade de Acessos|Ferias Acumuladas|Ferias Remuneradas|Horas Extras|Valores Adicionais|ID de Pessoal|ID da area|\n",
      "+-----+---+---+-----+------------+-------------+-----+------------------+---+-------------------+----------------+---------------------------------------+------------+--------+----------+---+---+-----+--------+-------+---------------------+-----------------+------------------+------------+------------------+-------------+----------+\n",
      "|    0|  0|  0|    0|           0|            0|    0|                 0|  0|                  0|             436|                                      0|           0|       0|         0|  0|  0|    0|     539|      0|                    0|                0|               539|           0|               532|          539|         0|\n",
      "+-----+---+---+-----+------------+-------------+-----+------------------+---+-------------------+----------------+---------------------------------------+------------+--------+----------+---+---+-----+--------+-------+---------------------+-----------------+------------------+------------+------------------+-------------+----------+\n",
      "\n",
      "Base Nivel tem 10 registros e 7 colunas\n",
      "Valores nulos em Base Nivel:\n",
      "+-----+---------------+--------------+--------------+------------------+-----------------+-----------------+\n",
      "|Nível|Descrição Nível|Tempo no Nível|Plano de Saúde|Plano Odontológico|Setor Responsável|Plano de Carreira|\n",
      "+-----+---------------+--------------+--------------+------------------+-----------------+-----------------+\n",
      "|    1|              0|             0|             5|                 9|               10|               10|\n",
      "+-----+---------------+--------------+--------------+------------------+-----------------+-----------------+\n",
      "\n",
      "Base PQ tem 539 registros e 59 colunas\n",
      "Valores nulos em Base PQ:\n",
      "23/03/20 11:14:53 WARN CSVHeaderChecker: CSV header does not conform to the schema.\n",
      " Header: ID, RH, RG, CPF, Ramal, Estado Civil, Nome Completo, Login, Data de Nascimento, CEP, Data de Contratacao, Data de Demissao, Dias Uteis Trabalhados Ano Orcamentario, Salario Base, Impostos, Beneficios, VT, VR, Cargo, Bandeira, Codigos, Quantidade de Acessos, Ferias Acumuladas, Ferias Remuneradas, Horas Extras, Valores Adicionais, ID de Pessoal, ID da area, , OP, 010, Operações, JAJ, 0, J, , 1, 0, I, Estagiário, JA, , , Cargo, Nível, Área, COD Área, COD Nível, Quadro, Bonus, Contratacao, , Nível, Descrição Nível, Tempo no Nível, Plano de Saúde, Plano Odontológico, Setor Responsável, Plano de Carreira\n",
      " Schema: ID, RH, RG, CPF, Ramal, Estado Civil, Nome Completo, Login, Data de Nascimento, CEP, Data de Contratacao, Data de Demissao, Dias Uteis Trabalhados Ano Orcamentario, Salario Base, Impostos, Beneficios, VT, VR, Cargo18, Bandeira, Codigos, Quantidade de Acessos, Ferias Acumuladas, Ferias Remuneradas, Horas Extras, Valores Adicionais, ID de Pessoal, ID da area, _c28, OP, 010, Operações, JAJ, 033, J, _c35, 1, 037, I, Estagiário, JA, _c41, _c42, Cargo43, Nível44, Área, COD Área, COD Nível, Quadro, Bonus, Contratacao, _c51, Nível52, Descrição Nível, Tempo no Nível, Plano de Saúde, Plano Odontológico, Setor Responsável, Plano de Carreira\n",
      "Expected: Cargo18 but found: Cargo\n",
      "CSV file: file:///Users/raquel.bustamante/Documents/Nestlé/Base_case/BasePQ.csv\n",
      "+---+---+---+---+-----+------------+-------------+-----+------------------+---+-------------------+----------------+---------------------------------------+------------+--------+----------+---+---+-------+--------+-------+---------------------+-----------------+------------------+------------+------------------+-------------+----------+----+---+---+---------+---+---+---+----+---+---+---+----------+---+----+----+-------+-------+----+--------+---------+------+-----+-----------+----+-------+---------------+--------------+--------------+------------------+-----------------+-----------------+\n",
      "| ID| RH| RG|CPF|Ramal|Estado Civil|Nome Completo|Login|Data de Nascimento|CEP|Data de Contratacao|Data de Demissao|Dias Uteis Trabalhados Ano Orcamentario|Salario Base|Impostos|Beneficios| VT| VR|Cargo18|Bandeira|Codigos|Quantidade de Acessos|Ferias Acumuladas|Ferias Remuneradas|Horas Extras|Valores Adicionais|ID de Pessoal|ID da area|_c28| OP|010|Operações|JAJ|033|  J|_c35|  1|037|  I|Estagiário| JA|_c41|_c42|Cargo43|Nível44|Área|COD Área|COD Nível|Quadro|Bonus|Contratacao|_c51|Nível52|Descrição Nível|Tempo no Nível|Plano de Saúde|Plano Odontológico|Setor Responsável|Plano de Carreira|\n",
      "+---+---+---+---+-----+------------+-------------+-----+------------------+---+-------------------+----------------+---------------------------------------+------------+--------+----------+---+---+-------+--------+-------+---------------------+-----------------+------------------+------------+------------------+-------------+----------+----+---+---+---------+---+---+---+----+---+---+---+----------+---+----+----+-------+-------+----+--------+---------+------+-----+-----------+----+-------+---------------+--------------+--------------+------------------+-----------------+-----------------+\n",
      "|  0|  0|  0|  0|    0|           0|            0|    0|                 0|  0|                436|               0|                                      0|           0|       0|         0|  0|  0|    539|       0|      0|                    0|              539|                 0|         532|               539|            0|       539| 535|535|535|      535|513|513|539| 535|535|535|535|       535|539| 539| 514|    514|    514| 514|     514|      514|   514|  514|        539| 534|    534|            534|           534|           534|               534|              534|              539|\n",
      "+---+---+---+---+-----+------------+-------------+-----+------------------+---+-------------------+----------------+---------------------------------------+------------+--------+----------+---+---+-------+--------+-------+---------------------+-----------------+------------------+------------+------------------+-------------+----------+----+---+---+---------+---+---+---+----+---+---+---+----------+---+----+----+-------+-------+----+--------+---------+------+-----+-----------+----+-------+---------------+--------------+--------------+------------------+-----------------+-----------------+\n",
      "\n"
     ]
    }
   ],
   "source": [
    "# Função para análise de quantidade de registros e colunas em cada base\n",
    "dfs = [\n",
    "    (\"Cargos\", cargos_df), \n",
    "    (\"Base CEP\", cep_df), \n",
    "    (\"Base Clientes\", clientes_df,),\n",
    "    (\"Base Funcionarios\", funcionarios_df), \n",
    "    (\"Base Nivel\", nivel_df), \n",
    "    (\"Base PQ\", pq_df)\n",
    "]\n",
    "\n",
    "for base, df in dfs:\n",
    "    print(f'{base} tem {df.count()} registros e {len(df.columns)} colunas')\n",
    "\n",
    "    print(f\"Valores nulos em {base}:\")\n",
    "    df.select([count(when(col(c).isNull(), c)).alias(c) for c in df.columns]).show()"
   ]
  },
  {
   "cell_type": "markdown",
   "metadata": {},
   "source": [
    "## Tratativa dados sensíveis"
   ]
  },
  {
   "cell_type": "markdown",
   "metadata": {},
   "source": [
    "Foi escolhida a coluna CPF das bases funcionários e PQ para serem tratadas como dados sensíveis. Para isso, é possível utilizar a função sha2 para substituir os valores por hash."
   ]
  },
  {
   "cell_type": "code",
   "execution_count": 93,
   "metadata": {},
   "outputs": [],
   "source": [
    "def hash_cpf(cpf):\n",
    "    return sha2(cpf, 256)\n",
    "\n",
    "hash_cpf_udf = udf(hash_cpf, StringType())"
   ]
  },
  {
   "cell_type": "code",
   "execution_count": 97,
   "metadata": {},
   "outputs": [],
   "source": [
    "funcionarios_df = funcionarios_df.withColumn(\"CPF\", hash_cpf_udf(\"CPF\"))\n",
    "pq_df = pq_df.withColumn(\"CPF\", hash_cpf_udf(\"CPF\"))"
   ]
  },
  {
   "cell_type": "markdown",
   "metadata": {},
   "source": [
    "## Insights"
   ]
  },
  {
   "cell_type": "markdown",
   "metadata": {},
   "source": [
    "Baseado na análise exploratória feita sobre as tabelas quanto ao seus devidos conteúdos, foi escolhido gerar 5 insights sobre os dados\n",
    "1. Quantidade de clientes e funcionários por estado\n",
    "2. Distribuição de cargos por nível\n",
    "3. "
   ]
  },
  {
   "cell_type": "code",
   "execution_count": 98,
   "metadata": {},
   "outputs": [],
   "source": [
    "# Quantidade de clientes e funcionários por estado\n",
    "\n",
    "clientes_estado_df = clientes_df.join(cep_df, \"CEP\").groupBy(\"Estado\").count().orderBy(\"count\",ascending=False)\n",
    "funcionarios_estado_df = funcionarios_df.join(cep_df, \"CEP\").groupBy(\"Estado\").count().orderBy(\"count\", ascending=False)\n"
   ]
  },
  {
   "cell_type": "code",
   "execution_count": 100,
   "metadata": {},
   "outputs": [
    {
     "ename": "TypeError",
     "evalue": "'method' object is not subscriptable",
     "output_type": "error",
     "traceback": [
      "\u001b[0;31m---------------------------------------------------------------------------\u001b[0m",
      "\u001b[0;31mTypeError\u001b[0m                                 Traceback (most recent call last)",
      "Input \u001b[0;32mIn [100]\u001b[0m, in \u001b[0;36m<cell line: 1>\u001b[0;34m()\u001b[0m\n\u001b[0;32m----> 1\u001b[0m clientes_funcionarios_estado \u001b[38;5;241m=\u001b[39m \u001b[43mclientes_estado_df\u001b[49m\u001b[38;5;241;43m.\u001b[39;49m\u001b[43mjoin\u001b[49m\u001b[43m(\u001b[49m\u001b[43mfuncionarios_estado_df\u001b[49m\u001b[43m,\u001b[49m\u001b[43m \u001b[49m\u001b[38;5;124;43m\"\u001b[39;49m\u001b[38;5;124;43mEstado\u001b[39;49m\u001b[38;5;124;43m\"\u001b[39;49m\u001b[43m,\u001b[49m\u001b[43m \u001b[49m\u001b[38;5;124;43m\"\u001b[39;49m\u001b[38;5;124;43mouter\u001b[39;49m\u001b[38;5;124;43m\"\u001b[39;49m\u001b[43m)\u001b[49m\u001b[38;5;241;43m.\u001b[39;49m\u001b[43mfillna\u001b[49m\u001b[43m[\u001b[49m\u001b[38;5;241;43m0\u001b[39;49m\u001b[43m]\u001b[49m\n",
      "\u001b[0;31mTypeError\u001b[0m: 'method' object is not subscriptable"
     ]
    }
   ],
   "source": [
    "clientes_funcionarios_estado = clientes_estado_df.join(funcionarios_estado_df, \"Estado\", \"outer\").fillna[0]"
   ]
  },
  {
   "cell_type": "code",
   "execution_count": null,
   "metadata": {},
   "outputs": [],
   "source": [
    "\n",
    "# Une as duas tabelas em uma só\n",
    "clientes_e_funcionarios_por_estado_df = clientes_por_estado_df.join(funcionarios_por_estado_df, \"Estado\", \"outer\").fillna(0)\n",
    "\n",
    "# Renomeia as colunas\n",
    "clientes_e_funcionarios_por_estado_df = clientes_e_funcionarios_por_estado_df.withColumnRenamed(\"count\", \"Num. Clientes\").withColumnRenamed(\"count\", \"Num. Funcionários\")\n",
    "\n",
    "clientes_e_funcionarios_por_estado_df.show()\n"
   ]
  }
 ],
 "metadata": {
  "interpreter": {
   "hash": "b0fa6594d8f4cbf19f97940f81e996739fb7646882a419484c72d19e05852a7e"
  },
  "kernelspec": {
   "display_name": "Python 3.9.10 64-bit",
   "name": "python3"
  },
  "language_info": {
   "codemirror_mode": {
    "name": "ipython",
    "version": 3
   },
   "file_extension": ".py",
   "mimetype": "text/x-python",
   "name": "python",
   "nbconvert_exporter": "python",
   "pygments_lexer": "ipython3",
   "version": "3.9.10"
  },
  "orig_nbformat": 4
 },
 "nbformat": 4,
 "nbformat_minor": 2
}
